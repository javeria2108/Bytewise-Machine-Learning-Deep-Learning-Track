{
  "nbformat": 4,
  "nbformat_minor": 0,
  "metadata": {
    "colab": {
      "provenance": [],
      "authorship_tag": "ABX9TyNGUomgQI5dJcjh3lxB2meU",
      "include_colab_link": true
    },
    "kernelspec": {
      "name": "python3",
      "display_name": "Python 3"
    },
    "language_info": {
      "name": "python"
    }
  },
  "cells": [
    {
      "cell_type": "markdown",
      "metadata": {
        "id": "view-in-github",
        "colab_type": "text"
      },
      "source": [
        "<a href=\"https://colab.research.google.com/github/javeria2108/Bytewise-Machine-Learning-Deep-Learning-Track/blob/master/Week2Assignment.ipynb\" target=\"_parent\"><img src=\"https://colab.research.google.com/assets/colab-badge.svg\" alt=\"Open In Colab\"/></a>"
      ]
    },
    {
      "cell_type": "code",
      "execution_count": null,
      "metadata": {
        "id": "pEkvhR_v340T"
      },
      "outputs": [],
      "source": []
    },
    {
      "cell_type": "markdown",
      "source": [
        "Question 1\n",
        "Write a code that will:\n",
        "1. Prompt the user to enter their name, age, email, and favorite number.\n",
        "2. Stores these inputs in a dictionary with appropriate keys.\n",
        "3. Validate the email format (contains \"@\" and \".\").\n",
        "4. Displays a message using these variables, formatted as: \"Hello [name], you are [age] years old, your email is [email], and your favorite number is [favorite number].\"\n"
      ],
      "metadata": {
        "id": "AryZ_IhN836X"
      }
    },
    {
      "cell_type": "code",
      "source": [
        "import re\n",
        "\n",
        "userDict = {\n",
        "    \"name\": \"\",\n",
        "    \"age\": \"\",\n",
        "    \"email\": \"\",\n",
        "    \"favNumber\": \"\"\n",
        "}\n",
        "\n",
        "print(\"Enter your name: \")\n",
        "userDict[\"name\"] = input()\n",
        "\n",
        "print(\"Enter your age: \")\n",
        "userDict[\"age\"] = input()\n",
        "\n",
        "while True:\n",
        "    print(\"Enter your email: \")\n",
        "    userDict[\"email\"] = input()\n",
        "    if re.match(r\"^[\\w\\.-]+@[\\w\\.-]+\\.\\w+$\", userDict[\"email\"]):\n",
        "        break\n",
        "    else:\n",
        "        print(\"Invalid email format. Please try again.\")\n",
        "\n",
        "print(\"Enter your favorite number: \")\n",
        "userDict[\"favNumber\"] = input()\n",
        "\n",
        "print(\"Hello \" + userDict[\"name\"] + \", you are \" + userDict[\"age\"] + \" years old, your email is \" + userDict[\"email\"] + \", and your favorite number is \" + userDict[\"favNumber\"] + \".\")\n"
      ],
      "metadata": {
        "colab": {
          "base_uri": "https://localhost:8080/"
        },
        "id": "5H_vK7I-9GI7",
        "outputId": "f8dbef0a-f6e9-4403-8f72-e3e3cacb5ad8"
      },
      "execution_count": 4,
      "outputs": [
        {
          "output_type": "stream",
          "name": "stdout",
          "text": [
            "Enter your name: \n",
            "3\n",
            "Enter your age: \n",
            "3\n",
            "Enter your email: \n",
            "3\n",
            "Invalid email format. Please try again.\n",
            "Enter your email: \n",
            "sad\n",
            "Invalid email format. Please try again.\n",
            "Enter your email: \n",
            "asdEWQ@vsv.com\n",
            "Enter your favorite number: \n",
            "5\n",
            "Hello 3, you are 3 years old, your email is asdEWQ@vsv.com, and your favorite number is 5.\n"
          ]
        }
      ]
    },
    {
      "cell_type": "markdown",
      "source": [
        "Question 2\n",
        "Write a code for a function `Is_even(number)` that will:\n",
        "1. Takes an integer as an input.\n",
        "2. Returns True if the number is even, otherwise False if the number is odd.\n",
        "3. Print whether the number was even or odd hint: use conditions\n"
      ],
      "metadata": {
        "id": "iuRjDBN_Ah3t"
      }
    },
    {
      "cell_type": "code",
      "source": [
        "def Is_even(num):\n",
        "  if(num%2==0):\n",
        "    return True\n",
        "  else:\n",
        "    return False\n",
        "print(\"enter a number:\")\n",
        "number=input()\n",
        "print(Is_even(int(number)))\n"
      ],
      "metadata": {
        "colab": {
          "base_uri": "https://localhost:8080/"
        },
        "id": "YhDsxlCmAnhN",
        "outputId": "72a4af00-3d80-44ec-ddf8-22a744cef6ea"
      },
      "execution_count": 7,
      "outputs": [
        {
          "output_type": "stream",
          "name": "stdout",
          "text": [
            "enter a number:\n",
            "4\n",
            "True\n"
          ]
        }
      ]
    }
  ]
}